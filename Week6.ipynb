{
 "cells": [
  {
   "cell_type": "code",
   "execution_count": 12,
   "metadata": {},
   "outputs": [
    {
     "name": "stdout",
     "output_type": "stream",
     "text": [
      "185.9400\n",
      "188.3600\n"
     ]
    }
   ],
   "source": [
    "# one way of doing it\n",
    "import requests\n",
    "\n",
    "API_KEY = 'demo'\n",
    "\n",
    "r = requests.get('https://www.alphavantage.co/query?function=TIME_SERIES_DAILY&symbol=MSFT&apikey=' + API_KEY)\n",
    "\n",
    "if (r.status_code == 200):\n",
    "#     print r.json()\n",
    "    result = r.json()\n",
    "    dataForAllDays = result['Time Series (Daily)']\n",
    "    dataForSingleDate = dataForAllDays['2020-06-08']\n",
    "    print (dataForSingleDate['1. open'])\n",
    "#     print dataForSingleDate['2. high']\n",
    "#     print dataForSingleDate['3. low']\n",
    "    print (dataForSingleDate['4. close'])\n",
    "#     print dataForSingleDate['5. volume']\n",
    "  "
   ]
  },
  {
   "cell_type": "code",
   "execution_count": null,
   "metadata": {},
   "outputs": [
    {
     "name": "stdout",
     "output_type": "stream",
     "text": [
      "                      1. open   2. high    3. low  4. close  5. volume\n",
      "date                                                                  \n",
      "2020-06-08 16:00:00  188.3800  188.5100  188.3000   188.350   499126.0\n",
      "2020-06-08 15:59:00  188.3600  188.3850  188.3200   188.380   184589.0\n",
      "2020-06-08 15:58:00  188.1290  188.2450  188.0400   188.235   142363.0\n",
      "2020-06-08 15:57:00  187.8211  188.1300  187.8211   188.129   100996.0\n",
      "2020-06-08 15:56:00  187.8500  187.9900  187.7900   187.820   108125.0\n",
      "...                       ...       ...       ...       ...        ...\n",
      "2020-06-02 09:35:00  183.1500  183.4900  183.1400   183.370   100555.0\n",
      "2020-06-02 09:34:00  183.3799  183.4700  183.0400   183.160   153345.0\n",
      "2020-06-02 09:33:00  183.3100  183.6800  183.2950   183.350   110210.0\n",
      "2020-06-02 09:32:00  183.5100  183.5800  183.1800   183.295   131525.0\n",
      "2020-06-02 09:31:00  184.2500  184.3225  183.3300   183.530  1049008.0\n",
      "\n",
      "[1943 rows x 5 columns]\n"
     ]
    }
   ],
   "source": [
    "# another way \n",
    "import pandas as pd\n",
    "from alpha_vantage.timeseries import TimeSeries\n",
    "import time\n",
    "\n",
    "api_key = 'O7Y10ZCO12MMBI19'\n",
    "\n",
    "ts = TimeSeries(key=api_key, output_format='pandas')\n",
    "data, meta_data = ts.get_intraday(symbol='MSFT', interval = '1min', outputsize = 'full')\n",
    "print(data)\n",
    "\n",
    "i = 1\n",
    "while i==1:\n",
    "   data, meta_data = ts.get_intraday(symbol='MSFT', interval = '1min', outputsize = 'full')\n",
    "   data.to_excel(\"output.xlsx\")\n",
    "   time.sleep(60)\n",
    "\n",
    "close_data = data['4. close']\n",
    "percentage_change = close_data.pct_change()\n",
    "\n",
    "print(percentage_change)"
   ]
  },
  {
   "cell_type": "code",
   "execution_count": null,
   "metadata": {},
   "outputs": [],
   "source": []
  }
 ],
 "metadata": {
  "kernelspec": {
   "display_name": "Python 3",
   "language": "python",
   "name": "python3"
  },
  "language_info": {
   "codemirror_mode": {
    "name": "ipython",
    "version": 3
   },
   "file_extension": ".py",
   "mimetype": "text/x-python",
   "name": "python",
   "nbconvert_exporter": "python",
   "pygments_lexer": "ipython3",
   "version": "3.7.4"
  }
 },
 "nbformat": 4,
 "nbformat_minor": 2
}
