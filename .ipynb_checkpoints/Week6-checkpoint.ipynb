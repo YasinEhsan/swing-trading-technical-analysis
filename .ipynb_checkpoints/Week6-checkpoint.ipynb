{
 "cells": [
  {
   "cell_type": "code",
   "execution_count": 13,
   "metadata": {},
   "outputs": [
    {
     "name": "stdout",
     "output_type": "stream",
     "text": [
      "185.9400\n",
      "188.3600\n"
     ]
    }
   ],
   "source": [
    "# one way of doing it\n",
    "# https://medium.com/@Keithweaver_/using-a-stock-market-api-4ce65b7c67ac\n",
    "import requests\n",
    "\n",
    "API_KEY = 'demo'\n",
    "\n",
    "r = requests.get('https://www.alphavantage.co/query?function=TIME_SERIES_DAILY&symbol=MSFT&apikey=' + API_KEY)\n",
    "\n",
    "if (r.status_code == 200):\n",
    "#     print r.json()\n",
    "    result = r.json()\n",
    "    dataForAllDays = result['Time Series (Daily)']\n",
    "    dataForSingleDate = dataForAllDays['2020-06-08']\n",
    "    print (dataForSingleDate['1. open'])\n",
    "#     print dataForSingleDate['2. high']\n",
    "#     print dataForSingleDate['3. low']\n",
    "    print (dataForSingleDate['4. close'])\n",
    "#     print dataForSingleDate['5. volume']\n",
    "  "
   ]
  },
  {
   "cell_type": "code",
   "execution_count": 22,
   "metadata": {},
   "outputs": [
    {
     "name": "stdout",
     "output_type": "stream",
     "text": [
      "                      1. open   2. high    3. low  4. close  5. volume\n",
      "date                                                                  \n",
      "2020-06-08 16:00:00  188.3800  188.5100  188.3000   188.350   499126.0\n",
      "2020-06-08 15:59:00  188.3600  188.3850  188.3200   188.380   184589.0\n",
      "2020-06-08 15:58:00  188.1290  188.2450  188.0400   188.235   142363.0\n",
      "2020-06-08 15:57:00  187.8211  188.1300  187.8211   188.129   100996.0\n",
      "2020-06-08 15:56:00  187.8500  187.9900  187.7900   187.820   108125.0\n",
      "...                       ...       ...       ...       ...        ...\n",
      "2020-06-02 09:35:00  183.1500  183.4900  183.1400   183.370   100555.0\n",
      "2020-06-02 09:34:00  183.3799  183.4700  183.0400   183.160   153345.0\n",
      "2020-06-02 09:33:00  183.3100  183.6800  183.2950   183.350   110210.0\n",
      "2020-06-02 09:32:00  183.5100  183.5800  183.1800   183.295   131525.0\n",
      "2020-06-02 09:31:00  184.2500  184.3225  183.3300   183.530  1049008.0\n",
      "\n",
      "[1943 rows x 5 columns]\n",
      "date\n",
      "2020-06-08 16:00:00    188.350\n",
      "2020-06-08 15:59:00    188.380\n",
      "2020-06-08 15:58:00    188.235\n",
      "2020-06-08 15:57:00    188.129\n",
      "2020-06-08 15:56:00    187.820\n",
      "                        ...   \n",
      "2020-06-02 09:35:00    183.370\n",
      "2020-06-02 09:34:00    183.160\n",
      "2020-06-02 09:33:00    183.350\n",
      "2020-06-02 09:32:00    183.295\n",
      "2020-06-02 09:31:00    183.530\n",
      "Name: 4. close, Length: 1943, dtype: float64\n"
     ]
    }
   ],
   "source": [
    "# another way \n",
    "# https://github.com/Derrick-Sherrill/DerrickSherrill.com/blob/master/stocks.py\n",
    "import pandas as pd\n",
    "from alpha_vantage.timeseries import TimeSeries\n",
    "import time\n",
    "\n",
    "api_key = 'O7Y10ZCO12MMBI19'\n",
    "\n",
    "ts = TimeSeries(key=api_key, output_format='pandas')\n",
    "data, meta_data = ts.get_intraday(symbol='MSFT', interval = '1min', outputsize = 'full')\n",
    "print(data)\n",
    "\n",
    "# i = 1\n",
    "# while i==1:\n",
    "#    data, meta_data = ts.get_intraday(symbol='MSFT', interval = '1min', outputsize = 'full')\n",
    "#    data.to_excel(\"output.xlsx\")\n",
    "#    time.sleep(60)\n",
    "\n",
    "close_data = data['4. close']\n",
    "percentage_change = close_data.pct_change()\n",
    "\n",
    "print(close_data)"
   ]
  },
  {
   "cell_type": "code",
   "execution_count": 12,
   "metadata": {},
   "outputs": [
    {
     "name": "stdout",
     "output_type": "stream",
     "text": [
      "MSFT Alert:0.00128208625439874\n"
     ]
    }
   ],
   "source": [
    "last_change = percentage_change[-1]\n",
    "\n",
    "if abs(last_change) > 0.0004:\n",
    "    print(\"MSFT Alert:\" + str(last_change))"
   ]
  },
  {
   "cell_type": "code",
   "execution_count": 29,
   "metadata": {},
   "outputs": [
    {
     "name": "stdout",
     "output_type": "stream",
     "text": [
      "            1. open  2. high  3. low  4. close    5. volume\n",
      "date                                                       \n",
      "2020-05-29    175.8   187.51   173.8    183.25  688873081.0 \n",
      "\n",
      "\n",
      "date\n",
      "2020-06-08    188.36\n",
      "2020-05-29    183.25\n",
      "2020-04-30    179.21\n",
      "2020-03-31    157.71\n",
      "2020-02-28    162.01\n",
      "               ...  \n",
      "2000-11-30     57.38\n",
      "2000-10-31     68.87\n",
      "2000-09-29     60.31\n",
      "2000-08-31     69.81\n",
      "2000-07-31     69.81\n",
      "Name: 4. close, Length: 240, dtype: float64\n"
     ]
    }
   ],
   "source": [
    "# New Models\n",
    "ts = TimeSeries(key=api_key, output_format='pandas')\n",
    "data, meta_data = ts.get_monthly(symbol='MSFT')\n",
    "# gets specific month may 2020\n",
    "print(data['2020-05-29'], '\\n\\n')\n",
    "\n",
    "# gets the close prices at each month\n",
    "print(data['4. close'])"
   ]
  },
  {
   "cell_type": "code",
   "execution_count": 66,
   "metadata": {},
   "outputs": [
    {
     "name": "stdout",
     "output_type": "stream",
     "text": [
      "UAL \n",
      "             1. open  2. high   3. low  4. close    5. volume\n",
      "date                                                        \n",
      "2020-06-08    28.19    48.95  27.9534     48.69  556962708.0 \n",
      "\n",
      "\n",
      "AAL \n",
      "             1. open  2. high  3. low  4. close     5. volume\n",
      "date                                                        \n",
      "2020-06-08    10.79     22.8   10.62     20.31  1.188054e+09 \n",
      "\n",
      "\n",
      "BA \n",
      "             1. open  2. high  3. low  4. close    5. volume\n",
      "date                                                       \n",
      "2020-06-08   145.45    234.2  144.55     230.5  364780307.0 \n",
      "\n",
      "\n"
     ]
    }
   ],
   "source": [
    "# pandas indexing ideas\n",
    "# https://datacarpentry.org/python-ecology-lesson/03-index-slice-subset/index.html\n",
    "ts = TimeSeries(key=api_key, output_format='pandas')\n",
    "stock_list = ['UAL', 'AAL', 'BA']\n",
    "\n",
    "for stock in range(len(stock_list)):\n",
    "    data, meta_data = ts.get_monthly(symbol= stock_list[stock])\n",
    "#     5 calls per min, 500 per day\n",
    "    \"\"\"\n",
    "        - cols 0-4 where  \n",
    "        - 0 monthly open, \n",
    "        - 1 monthly high, \n",
    "        - 2 monthly low, \n",
    "        - 3 monthly close, \n",
    "        - 4 monthly volume\n",
    "    \"\"\"\n",
    "#     print(stock_list[stock], '\\n', data.iloc[0], '\\n\\n')\n",
    "    print(stock_list[stock], '\\n', data.loc['2020-06-08'], '\\n\\n')\n",
    "    "
   ]
  },
  {
   "cell_type": "code",
   "execution_count": 73,
   "metadata": {},
   "outputs": [
    {
     "name": "stdout",
     "output_type": "stream",
     "text": [
      "UAL \n",
      " 149.14 \n",
      "\n",
      "\n",
      "AAL \n",
      " 2.65 \n",
      "\n",
      "\n",
      "BA \n",
      " 31.55 \n",
      "\n",
      "\n"
     ]
    },
    {
     "ename": "IndexError",
     "evalue": "list index out of range",
     "output_type": "error",
     "traceback": [
      "\u001b[0;31m-----------------------------------------------------------------\u001b[0m",
      "\u001b[0;31mIndexError\u001b[0m                      Traceback (most recent call last)",
      "\u001b[0;32m<ipython-input-73-8ab1c4e340c5>\u001b[0m in \u001b[0;36m<module>\u001b[0;34m\u001b[0m\n\u001b[1;32m      3\u001b[0m \u001b[0mcondensed_list\u001b[0m \u001b[0;34m=\u001b[0m \u001b[0;34m[\u001b[0m\u001b[0;34m'BA'\u001b[0m\u001b[0;34m,\u001b[0m \u001b[0;34m'LTM'\u001b[0m\u001b[0;34m,\u001b[0m \u001b[0;34m'UAL'\u001b[0m\u001b[0;34m]\u001b[0m\u001b[0;34m\u001b[0m\u001b[0;34m\u001b[0m\u001b[0m\n\u001b[1;32m      4\u001b[0m \u001b[0;32mfor\u001b[0m \u001b[0mstock\u001b[0m \u001b[0;32min\u001b[0m \u001b[0mrange\u001b[0m\u001b[0;34m(\u001b[0m\u001b[0mlen\u001b[0m\u001b[0;34m(\u001b[0m\u001b[0mstock_list\u001b[0m\u001b[0;34m)\u001b[0m\u001b[0;34m)\u001b[0m\u001b[0;34m:\u001b[0m\u001b[0;34m\u001b[0m\u001b[0;34m\u001b[0m\u001b[0m\n\u001b[0;32m----> 5\u001b[0;31m     \u001b[0mdata\u001b[0m\u001b[0;34m,\u001b[0m \u001b[0mmeta_data\u001b[0m \u001b[0;34m=\u001b[0m \u001b[0mts\u001b[0m\u001b[0;34m.\u001b[0m\u001b[0mget_monthly\u001b[0m\u001b[0;34m(\u001b[0m\u001b[0msymbol\u001b[0m\u001b[0;34m=\u001b[0m \u001b[0mcondensed_list\u001b[0m\u001b[0;34m[\u001b[0m\u001b[0mstock\u001b[0m\u001b[0;34m]\u001b[0m\u001b[0;34m)\u001b[0m\u001b[0;34m\u001b[0m\u001b[0;34m\u001b[0m\u001b[0m\n\u001b[0m\u001b[1;32m      6\u001b[0m \u001b[0;31m#     5 calls per min, 500 per day\u001b[0m\u001b[0;34m\u001b[0m\u001b[0;34m\u001b[0m\u001b[0;34m\u001b[0m\u001b[0m\n\u001b[1;32m      7\u001b[0m     \"\"\"\n",
      "\u001b[0;31mIndexError\u001b[0m: list index out of range"
     ]
    }
   ],
   "source": [
    "# CREATING STOCK MODEL \n",
    "stock_list = ['UAL', 'AAL', 'BA', 'LTM', 'DAL', 'NCLH', 'CCL', 'JETS']\n",
    "condensed_list = ['BA', 'LTM', 'UAL']\n",
    "for stock in range(len(stock_list)):\n",
    "    data, meta_data = ts.get_monthly(symbol= condensed_list[stock])\n",
    "#     5 calls per min, 500 per day\n",
    "    \"\"\"\n",
    "        - cols 0-4 where  \n",
    "        - 0 monthly open, \n",
    "        - 1 monthly high, \n",
    "        - 2 monthly low, \n",
    "        - 3 monthly close, \n",
    "        - 4 monthly volume\n",
    "        \n",
    "        - rows 0-6 where \n",
    "        - 0 june\n",
    "        - 1 may \n",
    "        - 2 april \n",
    "        - 3 march (pandemic)\n",
    "        - 4 feb \n",
    "        - 5 jan\n",
    "    \"\"\"\n",
    "    print(condensed_list[stock], '\\n', data.iloc[3, 3], '\\n\\n')"
   ]
  },
  {
   "cell_type": "code",
   "execution_count": null,
   "metadata": {},
   "outputs": [],
   "source": []
  }
 ],
 "metadata": {
  "kernelspec": {
   "display_name": "Python 3",
   "language": "python",
   "name": "python3"
  },
  "language_info": {
   "codemirror_mode": {
    "name": "ipython",
    "version": 3
   },
   "file_extension": ".py",
   "mimetype": "text/x-python",
   "name": "python",
   "nbconvert_exporter": "python",
   "pygments_lexer": "ipython3",
   "version": "3.7.4"
  }
 },
 "nbformat": 4,
 "nbformat_minor": 2
}
